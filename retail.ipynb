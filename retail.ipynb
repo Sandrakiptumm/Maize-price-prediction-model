{
 "cells": [
  {
   "cell_type": "code",
   "execution_count": 2,
   "metadata": {},
   "outputs": [
    {
     "name": "stdout",
     "output_type": "stream",
     "text": [
      "Train X shape: (16344, 10), Train y shape: (16344, 1)\n",
      "Validation X shape: (2043, 10), Validation y shape: (2043, 1)\n",
      "Test X shape: (2044, 10), Test y shape: (2044, 1)\n"
     ]
    }
   ],
   "source": [
    "import pandas as pd\n",
    "import numpy as np\n",
    "from sklearn.preprocessing import StandardScaler\n",
    "\n",
    "# Load the data\n",
    "data_for_lstm = pd.read_csv(\"modeling_data_2.csv\")\n",
    "data_for_lstm = data_for_lstm.drop(columns=['Date'])\n",
    "\n",
    "# Define target variable - using Wholesale\n",
    "target = data_for_lstm['Retail']\n",
    "\n",
    "# Define features - excluding target variable\n",
    "features = data_for_lstm.drop(columns=['Wholesale', 'Retail'])\n",
    "\n",
    "# Split into train, validation, and test sets (80/10/10 split)\n",
    "train_size = int(len(features) * 0.8)\n",
    "val_size = int(len(features) * 0.1)\n",
    "train_X, train_y = features[:train_size], target[:train_size]\n",
    "val_X, val_y = features[train_size:train_size + val_size], target[train_size:train_size + val_size]\n",
    "test_X, test_y = features[train_size + val_size:], target[train_size + val_size:]\n",
    "\n",
    "# Initialize the scaler\n",
    "scaler_features = StandardScaler()\n",
    "scaler_target = StandardScaler()\n",
    "\n",
    "# Fit and transform the scaler on the training data\n",
    "train_X_scaled = scaler_features.fit_transform(train_X)\n",
    "train_y_scaled = scaler_target.fit_transform(train_y.values.reshape(-1, 1))\n",
    "\n",
    "# Only transform the validation and test data\n",
    "val_X_scaled = scaler_features.transform(val_X)\n",
    "val_y_scaled = scaler_target.transform(val_y.values.reshape(-1, 1))\n",
    "test_X_scaled = scaler_features.transform(test_X)\n",
    "test_y_scaled = scaler_target.transform(test_y.values.reshape(-1, 1))\n",
    "\n",
    "\n",
    "print(f\"Train X shape: {train_X_scaled.shape}, Train y shape: {train_y_scaled.shape}\")\n",
    "print(f\"Validation X shape: {val_X_scaled.shape}, Validation y shape: {val_y_scaled.shape}\")\n",
    "print(f\"Test X shape: {test_X_scaled.shape}, Test y shape: {test_y_scaled.shape}\")\n"
   ]
  },
  {
   "cell_type": "code",
   "execution_count": 4,
   "metadata": {},
   "outputs": [
    {
     "data": {
      "text/plain": [
       "Index(['Year', 'Year_sin', 'Year_cos', 'Wholesale_lag_7', 'Retail_lag_7',\n",
       "       'Wholesale_rolling_mean_7d', 'Retail_rolling_mean_7d',\n",
       "       'Wholesale_rolling_std_7d', 'Retail_rolling_std_7d', 'County_2'],\n",
       "      dtype='object')"
      ]
     },
     "execution_count": 4,
     "metadata": {},
     "output_type": "execute_result"
    }
   ],
   "source": [
    "train_X.columns"
   ]
  },
  {
   "cell_type": "code",
   "execution_count": 2,
   "metadata": {},
   "outputs": [
    {
     "name": "stdout",
     "output_type": "stream",
     "text": [
      "Feature scaler saved to models/scaler_retail_features.pkl\n",
      "Target scaler saved to models/scaler_retail_target.pkl\n"
     ]
    }
   ],
   "source": [
    "import joblib\n",
    "\n",
    "# Save the scalers\n",
    "scaler_features_path = \"models/scaler_retail_features.pkl\"\n",
    "scaler_target_path = \"models/scaler_retail_target.pkl\"\n",
    "\n",
    "# Save the feature and target scalers\n",
    "joblib.dump(scaler_features, scaler_features_path)\n",
    "joblib.dump(scaler_target, scaler_target_path)\n",
    "\n",
    "print(f\"Feature scaler saved to {scaler_features_path}\")\n",
    "print(f\"Target scaler saved to {scaler_target_path}\")"
   ]
  },
  {
   "cell_type": "code",
   "execution_count": 3,
   "metadata": {},
   "outputs": [
    {
     "name": "stdout",
     "output_type": "stream",
     "text": [
      "Train X shape: (16305, 20, 10), Train y shape: (16305, 20, 1)\n",
      "Validation X shape: (2004, 20, 10), Validation y shape: (2004, 20, 1)\n",
      "Test X shape: (2005, 20, 10), Test y shape: (2005, 20, 1)\n"
     ]
    }
   ],
   "source": [
    "n_timesteps = 20  # 20-day window\n",
    "n_features = train_X.shape[1]  # Number of features in the dataset\n",
    "\n",
    "# Reshape data into 3D arrays for LSTM\n",
    "def reshape_for_multistep_lstm(X, y, n_timesteps, forecast_horizon):\n",
    "    X_lstm, y_lstm = [], []\n",
    "    for i in range(n_timesteps, len(X) - forecast_horizon + 1):\n",
    "        X_lstm.append(X[i - n_timesteps:i])\n",
    "        y_lstm.append(y[i:i + forecast_horizon])\n",
    "    return np.array(X_lstm), np.array(y_lstm)\n",
    "\n",
    "# For 20-day prediction\n",
    "forecast_horizon = 20\n",
    "train_X_lstm, train_y_lstm = reshape_for_multistep_lstm(train_X_scaled, train_y_scaled, n_timesteps, forecast_horizon)\n",
    "val_X_lstm, val_y_lstm = reshape_for_multistep_lstm(val_X_scaled, val_y_scaled, n_timesteps, forecast_horizon)\n",
    "test_X_lstm, test_y_lstm = reshape_for_multistep_lstm(test_X_scaled, test_y_scaled, n_timesteps, forecast_horizon)\n",
    "\n",
    "\n",
    "print(f\"Train X shape: {train_X_lstm.shape}, Train y shape: {train_y_lstm.shape}\")\n",
    "print(f\"Validation X shape: {val_X_lstm.shape}, Validation y shape: {val_y_lstm.shape}\")\n",
    "print(f\"Test X shape: {test_X_lstm.shape}, Test y shape: {test_y_lstm.shape}\")"
   ]
  },
  {
   "cell_type": "code",
   "execution_count": 5,
   "metadata": {},
   "outputs": [
    {
     "name": "stdout",
     "output_type": "stream",
     "text": [
      "Epoch 1/50\n",
      "\n",
      "Epoch 1: val_loss improved from inf to 2.00795, saving model to models\\best_retail_model_sequence.h5\n",
      "510/510 - 30s - loss: 1.3906 - val_loss: 2.0079 - lr: 5.0000e-05 - 30s/epoch - 59ms/step\n",
      "Epoch 2/50\n"
     ]
    },
    {
     "name": "stderr",
     "output_type": "stream",
     "text": [
      "c:\\Users\\Hp\\anaconda3\\envs\\env_2\\lib\\site-packages\\keras\\src\\engine\\training.py:3000: UserWarning: You are saving your model as an HDF5 file via `model.save()`. This file format is considered legacy. We recommend using instead the native Keras format, e.g. `model.save('my_model.keras')`.\n",
      "  saving_api.save_model(\n"
     ]
    },
    {
     "name": "stdout",
     "output_type": "stream",
     "text": [
      "\n",
      "Epoch 2: val_loss improved from 2.00795 to 1.88384, saving model to models\\best_retail_model_sequence.h5\n",
      "510/510 - 12s - loss: 1.2779 - val_loss: 1.8838 - lr: 5.0000e-05 - 12s/epoch - 23ms/step\n",
      "Epoch 3/50\n",
      "\n",
      "Epoch 3: val_loss improved from 1.88384 to 1.76048, saving model to models\\best_retail_model_sequence.h5\n",
      "510/510 - 11s - loss: 1.1769 - val_loss: 1.7605 - lr: 5.0000e-05 - 11s/epoch - 21ms/step\n",
      "Epoch 4/50\n",
      "\n",
      "Epoch 4: val_loss improved from 1.76048 to 1.66053, saving model to models\\best_retail_model_sequence.h5\n",
      "510/510 - 11s - loss: 1.0947 - val_loss: 1.6605 - lr: 5.0000e-05 - 11s/epoch - 21ms/step\n",
      "Epoch 5/50\n",
      "\n",
      "Epoch 5: val_loss improved from 1.66053 to 1.58791, saving model to models\\best_retail_model_sequence.h5\n",
      "510/510 - 11s - loss: 1.0339 - val_loss: 1.5879 - lr: 5.0000e-05 - 11s/epoch - 22ms/step\n",
      "Epoch 6/50\n",
      "\n",
      "Epoch 6: val_loss improved from 1.58791 to 1.53330, saving model to models\\best_retail_model_sequence.h5\n",
      "510/510 - 10s - loss: 0.9864 - val_loss: 1.5333 - lr: 5.0000e-05 - 10s/epoch - 21ms/step\n",
      "Epoch 7/50\n",
      "\n",
      "Epoch 7: val_loss improved from 1.53330 to 1.49064, saving model to models\\best_retail_model_sequence.h5\n",
      "510/510 - 12s - loss: 0.9528 - val_loss: 1.4906 - lr: 5.0000e-05 - 12s/epoch - 23ms/step\n",
      "Epoch 8/50\n",
      "\n",
      "Epoch 8: val_loss improved from 1.49064 to 1.46061, saving model to models\\best_retail_model_sequence.h5\n",
      "510/510 - 13s - loss: 0.9279 - val_loss: 1.4606 - lr: 5.0000e-05 - 13s/epoch - 25ms/step\n",
      "Epoch 9/50\n",
      "\n",
      "Epoch 9: val_loss improved from 1.46061 to 1.43230, saving model to models\\best_retail_model_sequence.h5\n",
      "510/510 - 10s - loss: 0.9082 - val_loss: 1.4323 - lr: 5.0000e-05 - 10s/epoch - 20ms/step\n",
      "Epoch 10/50\n",
      "\n",
      "Epoch 10: val_loss improved from 1.43230 to 1.42002, saving model to models\\best_retail_model_sequence.h5\n",
      "510/510 - 10s - loss: 0.8928 - val_loss: 1.4200 - lr: 5.0000e-05 - 10s/epoch - 20ms/step\n",
      "Epoch 11/50\n",
      "\n",
      "Epoch 11: val_loss improved from 1.42002 to 1.40972, saving model to models\\best_retail_model_sequence.h5\n",
      "510/510 - 11s - loss: 0.8802 - val_loss: 1.4097 - lr: 5.0000e-05 - 11s/epoch - 22ms/step\n",
      "Epoch 12/50\n",
      "\n",
      "Epoch 12: val_loss improved from 1.40972 to 1.40174, saving model to models\\best_retail_model_sequence.h5\n",
      "510/510 - 11s - loss: 0.8731 - val_loss: 1.4017 - lr: 5.0000e-05 - 11s/epoch - 21ms/step\n",
      "Epoch 13/50\n",
      "\n",
      "Epoch 13: val_loss improved from 1.40174 to 1.39607, saving model to models\\best_retail_model_sequence.h5\n",
      "510/510 - 11s - loss: 0.8658 - val_loss: 1.3961 - lr: 5.0000e-05 - 11s/epoch - 21ms/step\n",
      "Epoch 14/50\n",
      "\n",
      "Epoch 14: val_loss improved from 1.39607 to 1.38953, saving model to models\\best_retail_model_sequence.h5\n",
      "510/510 - 10s - loss: 0.8594 - val_loss: 1.3895 - lr: 5.0000e-05 - 10s/epoch - 20ms/step\n",
      "Epoch 15/50\n",
      "\n",
      "Epoch 15: val_loss improved from 1.38953 to 1.38195, saving model to models\\best_retail_model_sequence.h5\n",
      "510/510 - 10s - loss: 0.8542 - val_loss: 1.3820 - lr: 5.0000e-05 - 10s/epoch - 20ms/step\n",
      "Epoch 16/50\n",
      "\n",
      "Epoch 16: val_loss did not improve from 1.38195\n",
      "510/510 - 10s - loss: 0.8505 - val_loss: 1.3833 - lr: 5.0000e-05 - 10s/epoch - 20ms/step\n",
      "Epoch 17/50\n",
      "\n",
      "Epoch 17: val_loss improved from 1.38195 to 1.37033, saving model to models\\best_retail_model_sequence.h5\n",
      "510/510 - 10s - loss: 0.8462 - val_loss: 1.3703 - lr: 5.0000e-05 - 10s/epoch - 20ms/step\n",
      "Epoch 18/50\n",
      "\n",
      "Epoch 18: val_loss did not improve from 1.37033\n",
      "510/510 - 10s - loss: 0.8424 - val_loss: 1.3802 - lr: 5.0000e-05 - 10s/epoch - 20ms/step\n",
      "Epoch 19/50\n",
      "\n",
      "Epoch 19: val_loss did not improve from 1.37033\n",
      "510/510 - 10s - loss: 0.8400 - val_loss: 1.3705 - lr: 5.0000e-05 - 10s/epoch - 20ms/step\n"
     ]
    },
    {
     "data": {
      "image/png": "[encoded data removed]",
      "text/plain": [
       "<Figure size 640x480 with 1 Axes>"
      ]
     },
     "metadata": {},
     "output_type": "display_data"
    }
   ],
   "source": [
    "from tensorflow.keras.models import Sequential\n",
    "from tensorflow.keras.layers import LSTM, Dense, Dropout\n",
    "from tensorflow.keras.optimizers import Adam\n",
    "from tensorflow.keras.regularizers import l2\n",
    "from tensorflow.keras.callbacks import EarlyStopping, ModelCheckpoint\n",
    "import matplotlib.pyplot as plt\n",
    "from tensorflow.keras.models import Sequential\n",
    "from tensorflow.keras.layers import LSTM, Dense, Dropout\n",
    "from tensorflow.keras.optimizers import Adam\n",
    "from tensorflow.keras.regularizers import l2\n",
    "from tensorflow.keras.callbacks import EarlyStopping, ModelCheckpoint, ReduceLROnPlateau\n",
    "import matplotlib.pyplot as plt\n",
    "\n",
    "# Build the LSTM model\n",
    "def build_lstm_model(n_timesteps, n_features, forecast_horizon):\n",
    "    model = Sequential()\n",
    "    \n",
    "    # First LSTM layer with reduced units and L2 regularization\n",
    "    model.add(LSTM(16, activation='tanh', return_sequences=True, \n",
    "                   kernel_regularizer=l2(0.01), input_shape=(n_timesteps, n_features)))\n",
    "    model.add(Dropout(0.4))  # Dropout to prevent overfitting\n",
    "    \n",
    "    # Second LSTM layer with reduced units\n",
    "    model.add(LSTM(16, activation='tanh', kernel_regularizer=l2(0.01)))\n",
    "    model.add(Dropout(0.4))\n",
    "    \n",
    "    # Dense layer before output\n",
    "    model.add(Dense(32, activation='relu'))\n",
    "    model.add(Dropout(0.3))  # Dropout on dense layer\n",
    "    \n",
    "    # Output layer\n",
    "    model.add(Dense(forecast_horizon))\n",
    "    model.compile(optimizer=Adam(learning_rate=0.00005), loss='mean_squared_error')  # Reduced learning rate\n",
    "    return model\n",
    "\n",
    "# Define the model\n",
    "model = build_lstm_model(n_timesteps, n_features, forecast_horizon)\n",
    "\n",
    "# Training parameters\n",
    "epochs = 50  # Maximum number of epochs\n",
    "batch_size = 32  # Batch size for gradient updates\n",
    "\n",
    "# Early stopping configuration\n",
    "early_stopping = EarlyStopping(\n",
    "    monitor='val_loss',  # Metric to monitor\n",
    "    patience=2,  # Number of epochs with no improvement before stopping\n",
    "    restore_best_weights=True  # Restore the best weights after stopping\n",
    ")\n",
    "\n",
    "# Model checkpoint to save the best model based on validation loss\n",
    "checkpoint = ModelCheckpoint('models/best_retail_model_sequence.h5', monitor='val_loss', save_best_only=True, mode='min', verbose=1)\n",
    "\n",
    "# Learning rate reduction on plateau\n",
    "reduce_lr = ReduceLROnPlateau(monitor='val_loss', factor=0.5, patience=2, min_lr=1e-7)\n",
    "\n",
    "# Train the model with callbacks\n",
    "history = model.fit(\n",
    "    train_X_lstm, train_y_lstm,\n",
    "    epochs=epochs,\n",
    "    batch_size=batch_size,\n",
    "    validation_data=(val_X_lstm, val_y_lstm),\n",
    "    callbacks=[early_stopping, checkpoint, reduce_lr],\n",
    "    verbose=2\n",
    ")\n",
    "# Plot training and validation loss\n",
    "plt.plot(history.history['loss'], label='Train Loss')\n",
    "plt.plot(history.history['val_loss'], label='Validation Loss')\n",
    "plt.xlabel('Epochs')\n",
    "plt.ylabel('Loss')\n",
    "plt.legend()\n",
    "plt.title('Training and Validation Loss')\n",
    "plt.show()\n"
   ]
  },
  {
   "cell_type": "code",
   "execution_count": 6,
   "metadata": {},
   "outputs": [
    {
     "name": "stdout",
     "output_type": "stream",
     "text": [
      "63/63 [==============================] - 4s 19ms/step\n",
      "Validation RMSE: 1.1580037917254868\n",
      "Validation MAPE: 1.0566194636062256%\n"
     ]
    }
   ],
   "source": [
    "from sklearn.metrics import mean_squared_error, mean_absolute_percentage_error\n",
    "import numpy as np\n",
    "\n",
    "from sklearn.metrics import mean_squared_error, mean_absolute_percentage_error\n",
    "import numpy as np\n",
    "\n",
    "# Make predictions on the validation set\n",
    "predictions = model.predict(val_X_lstm)\n",
    "\n",
    "# Reshape the predictions to be 2D (samples, forecast_horizon)\n",
    "predictions_reshaped = predictions.reshape(predictions.shape[0], forecast_horizon)\n",
    "\n",
    "# Reshape the true values (val_y_lstm) to be 2D as well\n",
    "val_y_reshaped = val_y_lstm.reshape(val_y_lstm.shape[0], forecast_horizon)\n",
    "\n",
    "# Calculate RMSE\n",
    "rmse = np.sqrt(mean_squared_error(val_y_reshaped, predictions_reshaped))\n",
    "print(f\"Validation RMSE: {rmse}\")\n",
    "\n",
    "# Calculate MAPE\n",
    "mape = mean_absolute_percentage_error(val_y_reshaped, predictions_reshaped)\n",
    "print(f\"Validation MAPE: {mape}%\")"
   ]
  }
 ],
 "metadata": {
  "kernelspec": {
   "display_name": "env_2",
   "language": "python",
   "name": "python3"
  },
  "language_info": {
   "codemirror_mode": {
    "name": "ipython",
    "version": 3
   },
   "file_extension": ".py",
   "mimetype": "text/x-python",
   "name": "python",
   "nbconvert_exporter": "python",
   "pygments_lexer": "ipython3",
   "version": "3.8.18"
  }
 },
 "nbformat": 4,
 "nbformat_minor": 2
}
